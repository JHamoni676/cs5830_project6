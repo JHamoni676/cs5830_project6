{
 "cells": [
  {
   "cell_type": "code",
   "execution_count": 1,
   "metadata": {},
   "outputs": [],
   "source": [
    "import pandas as pd\n",
    "import seaborn as sns\n",
    "import matplotlib.pyplot as plt"
   ]
  },
  {
   "cell_type": "code",
   "execution_count": null,
   "metadata": {},
   "outputs": [],
   "source": [
    "df = pd.read_csv(\"RRCA_baseflow.csv\")\n",
    "display(df)\n",
    "df['Date'] = df['Date'] - 693963\n",
    "df['Date_YMD'] = pd.to_datetime(df['Date'], origin='1900-01-01', unit='D')\n",
    "\n",
    "# df.to_csv('RRCA_baseflow_YMD.csv')\n"
   ]
  },
  {
   "cell_type": "code",
   "execution_count": null,
   "metadata": {},
   "outputs": [],
   "source": [
    "print(df.isnull().sum())"
   ]
  },
  {
   "cell_type": "code",
   "execution_count": null,
   "metadata": {},
   "outputs": [],
   "source": [
    "plt.figure(figsize=(16, 12))\n",
    "\n",
    "predictors = ['Evapotranspiration', 'Precipitation', 'Irrigation_pumping']\n",
    "\n",
    "for i, col in enumerate(predictors, 1):\n",
    "    plt.subplot(2, 3, i)\n",
    "    sns.scatterplot(data=df, x=col, y='Observed')\n",
    "    plt.title(f'{col} vs Observed Baseflow')\n",
    "\n",
    "plt.tight_layout()\n",
    "plt.show()"
   ]
  },
  {
   "cell_type": "code",
   "execution_count": null,
   "metadata": {},
   "outputs": [],
   "source": [
    "plt.figure(figsize=(16, 10))\n",
    "\n",
    "for i, col in enumerate(predictors + ['Observed'], 1):\n",
    "    plt.subplot(2, 3, i)\n",
    "    sns.histplot(df[col], kde=True)\n",
    "    plt.title(f'Distribution of {col}')\n",
    "\n",
    "plt.tight_layout()\n",
    "plt.show()"
   ]
  },
  {
   "cell_type": "code",
   "execution_count": null,
   "metadata": {},
   "outputs": [],
   "source": [
    "specific_segment_id = 144 \n",
    "df_specific_segment = df[df['Segment_id'] == specific_segment_id]\n",
    "print(f\"Data for Segment id {specific_segment_id}:\")\n",
    "display(df_specific_segment.head())\n",
    "# df_specific_segment.to_csv(f'{specific_segment_id}segment.csv')\n",
    "plt.figure(figsize=(16, 12))\n",
    "\n",
    "predictors = ['Evapotranspiration', 'Precipitation', 'Irrigation_pumping']\n",
    "\n",
    "for i, col in enumerate(predictors, 1):\n",
    "    plt.subplot(2, 3, i)\n",
    "    sns.scatterplot(data=df_specific_segment, x=col, y='Observed')\n",
    "    plt.title(f'{col} vs Observed Baseflow')\n",
    "\n",
    "plt.tight_layout()\n",
    "plt.show()"
   ]
  },
  {
   "cell_type": "code",
   "execution_count": null,
   "metadata": {},
   "outputs": [],
   "source": [
    "plt.figure(figsize=(20, 8))\n",
    "predictors = ['Evapotranspiration', 'Precipitation', 'Irrigation_pumping','Observed']\n",
    "\n",
    "for i, col in enumerate(predictors, 1):\n",
    "    plt.subplot(1, 4, i)\n",
    "    sns.scatterplot(data=df_specific_segment, x='Date_YMD', y=col, label=col, color='blue', alpha=0.6)\n",
    "    plt.title(f'{col} Over Time')\n",
    "    plt.xlabel('Date')\n",
    "    plt.ylabel(col)\n",
    "    plt.xticks(rotation=45)\n",
    "    plt.grid(True)\n",
    "\n",
    "plt.tight_layout()\n",
    "plt.show()"
   ]
  },
  {
   "cell_type": "code",
   "execution_count": null,
   "metadata": {},
   "outputs": [],
   "source": [
    "plt.figure(figsize=(16, 10))\n",
    "\n",
    "for i, col in enumerate(predictors, 1):\n",
    "    plt.subplot(2, 3, i)\n",
    "    sns.histplot(df_specific_segment[col], kde=True)\n",
    "    plt.title(f'Distribution of {col}')\n",
    "\n",
    "plt.tight_layout()\n",
    "plt.show()"
   ]
  },
  {
   "cell_type": "code",
   "execution_count": null,
   "metadata": {},
   "outputs": [],
   "source": [
    "specific_segment_id = 171 \n",
    "df_specific_segment = df[df['Segment_id'] == specific_segment_id]\n",
    "print(f\"Data for Segment id {specific_segment_id}:\")\n",
    "display(df_specific_segment.head())\n",
    "# df_specific_segment.to_csv(f'{specific_segment_id}segment.csv')\n",
    "plt.figure(figsize=(16, 12))\n",
    "\n",
    "predictors = ['Evapotranspiration', 'Precipitation', 'Irrigation_pumping']\n",
    "\n",
    "for i, col in enumerate(predictors, 1):\n",
    "    plt.subplot(2, 3, i)\n",
    "    sns.scatterplot(data=df_specific_segment, x=col, y='Observed')\n",
    "    plt.title(f'{col} vs Observed Baseflow')\n",
    "\n",
    "plt.tight_layout()\n",
    "plt.show()"
   ]
  },
  {
   "cell_type": "code",
   "execution_count": null,
   "metadata": {},
   "outputs": [],
   "source": [
    "plt.figure(figsize=(16, 10))\n",
    "\n",
    "for i, col in enumerate(predictors, 1):\n",
    "    plt.subplot(2, 3, i)\n",
    "    sns.histplot(df_specific_segment[col], kde=True)\n",
    "    plt.title(f'Distribution of {col}')\n",
    "\n",
    "plt.tight_layout()\n",
    "plt.show()"
   ]
  },
  {
   "cell_type": "code",
   "execution_count": null,
   "metadata": {},
   "outputs": [],
   "source": [
    "plt.figure(figsize=(20, 8))\n",
    "predictors = ['Evapotranspiration', 'Precipitation', 'Irrigation_pumping','Observed']\n",
    "\n",
    "for i, col in enumerate(predictors, 1):\n",
    "    plt.subplot(1, 4, i)\n",
    "    sns.scatterplot(data=df_specific_segment, x='Date_YMD', y=col, label=col, color='blue', alpha=0.6)\n",
    "    plt.title(f'{col} Over Time')\n",
    "    plt.xlabel('Date')\n",
    "    plt.ylabel(col)\n",
    "    plt.xticks(rotation=45)\n",
    "    plt.grid(True)\n",
    "\n",
    "plt.tight_layout()\n",
    "plt.show()"
   ]
  },
  {
   "cell_type": "code",
   "execution_count": null,
   "metadata": {},
   "outputs": [],
   "source": []
  }
 ],
 "metadata": {
  "kernelspec": {
   "display_name": "Python 3",
   "language": "python",
   "name": "python3"
  },
  "language_info": {
   "codemirror_mode": {
    "name": "ipython",
    "version": 3
   },
   "file_extension": ".py",
   "mimetype": "text/x-python",
   "name": "python",
   "nbconvert_exporter": "python",
   "pygments_lexer": "ipython3",
   "version": "3.10.1"
  }
 },
 "nbformat": 4,
 "nbformat_minor": 2
}
